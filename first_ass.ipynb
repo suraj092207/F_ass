{
  "nbformat": 4,
  "nbformat_minor": 0,
  "metadata": {
    "colab": {
      "provenance": []
    },
    "kernelspec": {
      "name": "python3",
      "display_name": "Python 3"
    },
    "language_info": {
      "name": "python"
    }
  },
  "cells": [
    {
      "cell_type": "code",
      "execution_count": 1,
      "metadata": {
        "id": "-m2SPSwdaLEq"
      },
      "outputs": [],
      "source": [
        "import pandas as pd\n",
        "from sklearn.preprocessing import LabelEncoder, StandardScaler"
      ]
    },
    {
      "cell_type": "code",
      "source": [
        "df = pd.read_csv('Students.csv')"
      ],
      "metadata": {
        "id": "v7MY0insbaOp"
      },
      "execution_count": 3,
      "outputs": []
    },
    {
      "cell_type": "code",
      "source": [
        "df['MathScore'].fillna(df['MathScore'].mean(), inplace=True)\n",
        "df['EnglishScore'].fillna(df['EnglishScore'].mean(), inplace=True)"
      ],
      "metadata": {
        "id": "rUECPiuXbkQA"
      },
      "execution_count": 4,
      "outputs": []
    },
    {
      "cell_type": "code",
      "source": [
        "label_encoder = LabelEncoder()\n",
        "df['Gender'] = label_encoder.fit_transform(df['Gender'])"
      ],
      "metadata": {
        "id": "FbEDJos4blZ-"
      },
      "execution_count": 5,
      "outputs": []
    },
    {
      "cell_type": "code",
      "source": [
        "df['TotalScore'] = df['MathScore'] + df['EnglishScore']"
      ],
      "metadata": {
        "id": "T0P6O46ObqWu"
      },
      "execution_count": 6,
      "outputs": []
    },
    {
      "cell_type": "code",
      "source": [
        "scaler = StandardScaler()\n",
        "df[['MathScore', 'EnglishScore', 'TotalScore']] = scaler.fit_transform(df[['MathScore', 'EnglishScore', 'TotalScore']])"
      ],
      "metadata": {
        "id": "zzQD8O9XbrDB"
      },
      "execution_count": 7,
      "outputs": []
    },
    {
      "cell_type": "code",
      "source": [
        "print(df)"
      ],
      "metadata": {
        "colab": {
          "base_uri": "https://localhost:8080/"
        },
        "id": "5HcV2NZAbuI2",
        "outputId": "0d2b8911-557e-4c8d-c58a-8d53f8be454f"
      },
      "execution_count": 8,
      "outputs": [
        {
          "output_type": "stream",
          "name": "stdout",
          "text": [
            "   StudentID     Name  Gender  Age  MathScore  EnglishScore  TotalScore\n",
            "0          1    Alice       0   15        0.5      0.597614    0.622841\n",
            "1          2      Bob       1   16        0.0      1.195229    0.830455\n",
            "2          3  Charlie       1   15       -0.5      0.000000   -0.207614\n",
            "3          4    Diana       0   16        1.5      0.000000    0.622841\n",
            "4          5      Eve       0   15       -1.5     -1.792843   -1.868523\n"
          ]
        }
      ]
    }
  ]
}