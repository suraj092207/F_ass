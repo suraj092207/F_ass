{
  "nbformat": 4,
  "nbformat_minor": 0,
  "metadata": {
    "colab": {
      "provenance": []
    },
    "kernelspec": {
      "name": "python3",
      "display_name": "Python 3"
    },
    "language_info": {
      "name": "python"
    }
  },
  "cells": [
    {
      "cell_type": "code",
      "execution_count": 1,
      "metadata": {
        "id": "JdpB2WAgeDKV"
      },
      "outputs": [],
      "source": [
        "import pandas as pd\n",
        "from sklearn.preprocessing import MinMaxScaler"
      ]
    },
    {
      "cell_type": "code",
      "source": [
        "file_path = 'Sales.csv'\n",
        "sales_data = pd.read_csv(file_path)"
      ],
      "metadata": {
        "id": "35J1gpTHeSnN"
      },
      "execution_count": 2,
      "outputs": []
    },
    {
      "cell_type": "code",
      "source": [
        "sales_data['Revenue'] = sales_data['Price'] * sales_data['QuantitySold']"
      ],
      "metadata": {
        "id": "2mke5biOeU0j"
      },
      "execution_count": 3,
      "outputs": []
    },
    {
      "cell_type": "code",
      "source": [
        "Q1 = sales_data['Price'].quantile(0.25)\n",
        "Q3 = sales_data['Price'].quantile(0.75)\n",
        "IQR = Q3 - Q1\n",
        "\n",
        "lower_bound = Q1 - 1.5 * IQR\n",
        "upper_bound = Q3 + 1.5 * IQR"
      ],
      "metadata": {
        "id": "PVyIxhYkeXMq"
      },
      "execution_count": 4,
      "outputs": []
    },
    {
      "cell_type": "code",
      "source": [
        "filtered_sales_data = sales_data[(sales_data['Price'] >= lower_bound) & (sales_data['Price'] <= upper_bound)]"
      ],
      "metadata": {
        "id": "9AzKQ_GLeaUP"
      },
      "execution_count": 5,
      "outputs": []
    },
    {
      "cell_type": "code",
      "source": [
        "scaler = MinMaxScaler()\n",
        "filtered_sales_data[['Price', 'Revenue']] = scaler.fit_transform(filtered_sales_data[['Price', 'Revenue']])"
      ],
      "metadata": {
        "colab": {
          "base_uri": "https://localhost:8080/"
        },
        "id": "Tfodw0mgedGt",
        "outputId": "71ee6733-4e9d-4836-a64d-9b24b15a2272"
      },
      "execution_count": 6,
      "outputs": [
        {
          "output_type": "stream",
          "name": "stderr",
          "text": [
            "<ipython-input-6-7ed2394b4fd9>:2: SettingWithCopyWarning: \n",
            "A value is trying to be set on a copy of a slice from a DataFrame.\n",
            "Try using .loc[row_indexer,col_indexer] = value instead\n",
            "\n",
            "See the caveats in the documentation: https://pandas.pydata.org/pandas-docs/stable/user_guide/indexing.html#returning-a-view-versus-a-copy\n",
            "  filtered_sales_data[['Price', 'Revenue']] = scaler.fit_transform(filtered_sales_data[['Price', 'Revenue']])\n"
          ]
        }
      ]
    },
    {
      "cell_type": "code",
      "source": [
        "print(filtered_sales_data.head())"
      ],
      "metadata": {
        "colab": {
          "base_uri": "https://localhost:8080/"
        },
        "id": "9fr8nmKUekWZ",
        "outputId": "0fe9c213-e561-427e-a9d8-e7f134a7ba17"
      },
      "execution_count": 7,
      "outputs": [
        {
          "output_type": "stream",
          "name": "stdout",
          "text": [
            "   ProductID ProductCategory     Price  QuantitySold   Revenue\n",
            "0        101     Electronics  0.747475             5  1.000000\n",
            "1        102     Electronics  1.000000             3  0.571429\n",
            "2        103       Furniture  0.242424            10  0.285714\n",
            "3        104        Clothing  0.015152           100  0.285714\n",
            "5        106        Clothing  0.000000           200  0.000000\n"
          ]
        }
      ]
    }
  ]
}